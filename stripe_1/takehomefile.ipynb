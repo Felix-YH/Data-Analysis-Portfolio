{
  "cells": [
    {
      "cell_type": "markdown",
      "id": "322d4b4c",
      "metadata": {
        "id": "322d4b4c"
      },
      "source": [
        "![logo.png](https://github.com/interviewquery/takehomes/blob/stripe_1/stripe_1/logo.png?raw=1)\n",
        "\n",
        "\n",
        "\n",
        "## Assignment\n",
        "\n",
        "You are leading a project to analyze product performance at Stripe. We at Stripe are most interested in how the products are performing and growing as well as how to prioritize our product development efforts to maximize our growth. You have been provided an initial cut of data on a few flagship products, each of which is targeted at a specific user segment. From the data you've been given, please prepare a short presentation detailing your findings. \n",
        "\n",
        "**Product Usage Table:**\n",
        "\n",
        "|Label| Description|\n",
        "| - | :- |  \n",
        "| `merchant` | This is the unique ID of each Stripe user |\n",
        "|`date` | Data is aggregated up to the month level for each Stripe user.|\n",
        "|`product` | This is the Stripe product that the user is using to charge their customers.|\n",
        "|`event` | This is an action within a product. For more details on how products are used, see \"segment details\" below|\n",
        "|`count of events` |       |\n",
        "|`usd_amount` |Total amount in cents and USD that was processed for that API call|\n",
        "\n",
        "**Segment Table:**\n",
        "\n",
        "This is a mapping of merchant IDs to the user segmentation we have.\n",
        "\n",
        "|Label| Description|\n",
        "| - | :- | \n",
        "|`saas`| These businesses serve SaaS products which means they primarily charge their customers on a recurring basis (usually   monthly). We want them to use our Subscriptions payments product to charge regularly on a time interval.|\n",
        "|`ecommerce` | These businesses use Stripe's shopping cart product and primarily sell physical or digital goods online. |\n",
        "|`platforms` | These users are platforms upon which other users can sign up and charge for services through the Stripe API. Examples would include ridesharing services, delivery services, etc. (e.g. Lyft, Task Rabbit, Instacart) |\n",
        "\n",
        "\n",
        "## Segment Details\n",
        "\n",
        "### SaaS\n",
        "\n",
        "SaaS users have two options when they process recurring payments. The recurring payments product allows them to schedule automatically recurring payments on a fixed schedule, but the merchants can also manually create charges on Stripe for their recurring payments. Our hope with the recurring payments product is to make it easy for all users to automate their payments. The product was launched in May 2013. \n",
        "\n",
        "### E-Commerce Store\n",
        "\n",
        "Our shopping cart product enables online e-commerce stores to sell goods. We track details on their website around the conversion funnel and actions that customers take. We can see when an item is viewed, added to the cart, when the checkout flow is initiated, and when it is completed with a payment submitted. \n",
        "\n",
        "### Platforms \n",
        "\n",
        "Our Marketplace product allows platforms to charge on behalf of other users and payout funds to each end automatically.\n",
        "\n",
        "\n",
        "\n",
        "### Questions to guide thinking:\n",
        "\n",
        "1. How are each of Stripe's products and segments performing and where are they headed?\n",
        "\n",
        "2. Are there any issues with the products that we should address?\n",
        "\n",
        "3. Given more time and access to more data, what would you want to dig deeper on?\n",
        "\n",
        "4. How should we prioritize development for different products, given our limited resources?\n",
        "\n",
        "\n"
      ]
    },
    {
      "cell_type": "code",
      "execution_count": 32,
      "id": "cfb851c5",
      "metadata": {
        "colab": {
          "base_uri": "https://localhost:8080/"
        },
        "id": "cfb851c5",
        "outputId": "882f9380-2b36-4a05-c127-dc4f947d0989"
      },
      "outputs": [
        {
          "output_type": "stream",
          "name": "stdout",
          "text": [
            "Cloning into 'takehomes'...\n",
            "remote: Enumerating objects: 1768, done.\u001b[K\n",
            "remote: Counting objects: 100% (576/576), done.\u001b[K\n",
            "remote: Compressing objects: 100% (455/455), done.\u001b[K\n",
            "remote: Total 1768 (delta 169), reused 481 (delta 120), pack-reused 1192\u001b[K\n",
            "Receiving objects: 100% (1768/1768), 297.30 MiB | 20.59 MiB/s, done.\n",
            "Resolving deltas: 100% (619/619), done.\n",
            "/content/takehomes/stripe_1/takehomes/stripe_1\n",
            "ls: cannot access '*.zip': No such file or directory\n",
            "logo.png  product_usage.csv  segmentation.csv  takehomefile.ipynb\n"
          ]
        }
      ],
      "source": [
        "!git clone --branch stripe_1 https://github.com/interviewquery/takehomes.git\n",
        "%cd takehomes/stripe_1\n",
        "!if [[ $(ls *.zip) ]]; then unzip *.zip; fi\n",
        "!ls"
      ]
    },
    {
      "cell_type": "code",
      "execution_count": 143,
      "id": "ff0b46df",
      "metadata": {
        "id": "ff0b46df"
      },
      "outputs": [],
      "source": [
        "# Write your code here\n",
        "import pandas as pd\n",
        "import numpy as np\n",
        "pd.set_option('display.float_format', lambda x: '%.5f' % x)"
      ]
    },
    {
      "cell_type": "code",
      "source": [
        "# load the data\n",
        "product = pd.read_csv(\"/content/takehomes/stripe_1/product_usage.csv\")\n",
        "segment = pd.read_csv(\"/content/takehomes/stripe_1/segmentation.csv\")"
      ],
      "metadata": {
        "id": "6pK2RUTrlJ4N"
      },
      "id": "6pK2RUTrlJ4N",
      "execution_count": 144,
      "outputs": []
    },
    {
      "cell_type": "code",
      "source": [
        "segment.head()"
      ],
      "metadata": {
        "colab": {
          "base_uri": "https://localhost:8080/",
          "height": 206
        },
        "id": "FlFpWdpIlafk",
        "outputId": "88c12e29-d9ab-4736-f3d8-7b1c631cc8c7"
      },
      "id": "FlFpWdpIlafk",
      "execution_count": 171,
      "outputs": [
        {
          "output_type": "execute_result",
          "data": {
            "text/plain": [
              "      Merchant   Segment\n",
              "0   282t1vpldi      SaaS\n",
              "1  2x5fpa2a9k9      SaaS\n",
              "2   39rrckrzfr      SaaS\n",
              "3    3r5r60f6r  Platform\n",
              "4   4p36czyqfr  Platform"
            ],
            "text/html": [
              "\n",
              "  <div id=\"df-93fa5656-56a9-4931-b121-fbae7475fda4\">\n",
              "    <div class=\"colab-df-container\">\n",
              "      <div>\n",
              "<style scoped>\n",
              "    .dataframe tbody tr th:only-of-type {\n",
              "        vertical-align: middle;\n",
              "    }\n",
              "\n",
              "    .dataframe tbody tr th {\n",
              "        vertical-align: top;\n",
              "    }\n",
              "\n",
              "    .dataframe thead th {\n",
              "        text-align: right;\n",
              "    }\n",
              "</style>\n",
              "<table border=\"1\" class=\"dataframe\">\n",
              "  <thead>\n",
              "    <tr style=\"text-align: right;\">\n",
              "      <th></th>\n",
              "      <th>Merchant</th>\n",
              "      <th>Segment</th>\n",
              "    </tr>\n",
              "  </thead>\n",
              "  <tbody>\n",
              "    <tr>\n",
              "      <th>0</th>\n",
              "      <td>282t1vpldi</td>\n",
              "      <td>SaaS</td>\n",
              "    </tr>\n",
              "    <tr>\n",
              "      <th>1</th>\n",
              "      <td>2x5fpa2a9k9</td>\n",
              "      <td>SaaS</td>\n",
              "    </tr>\n",
              "    <tr>\n",
              "      <th>2</th>\n",
              "      <td>39rrckrzfr</td>\n",
              "      <td>SaaS</td>\n",
              "    </tr>\n",
              "    <tr>\n",
              "      <th>3</th>\n",
              "      <td>3r5r60f6r</td>\n",
              "      <td>Platform</td>\n",
              "    </tr>\n",
              "    <tr>\n",
              "      <th>4</th>\n",
              "      <td>4p36czyqfr</td>\n",
              "      <td>Platform</td>\n",
              "    </tr>\n",
              "  </tbody>\n",
              "</table>\n",
              "</div>\n",
              "      <button class=\"colab-df-convert\" onclick=\"convertToInteractive('df-93fa5656-56a9-4931-b121-fbae7475fda4')\"\n",
              "              title=\"Convert this dataframe to an interactive table.\"\n",
              "              style=\"display:none;\">\n",
              "        \n",
              "  <svg xmlns=\"http://www.w3.org/2000/svg\" height=\"24px\"viewBox=\"0 0 24 24\"\n",
              "       width=\"24px\">\n",
              "    <path d=\"M0 0h24v24H0V0z\" fill=\"none\"/>\n",
              "    <path d=\"M18.56 5.44l.94 2.06.94-2.06 2.06-.94-2.06-.94-.94-2.06-.94 2.06-2.06.94zm-11 1L8.5 8.5l.94-2.06 2.06-.94-2.06-.94L8.5 2.5l-.94 2.06-2.06.94zm10 10l.94 2.06.94-2.06 2.06-.94-2.06-.94-.94-2.06-.94 2.06-2.06.94z\"/><path d=\"M17.41 7.96l-1.37-1.37c-.4-.4-.92-.59-1.43-.59-.52 0-1.04.2-1.43.59L10.3 9.45l-7.72 7.72c-.78.78-.78 2.05 0 2.83L4 21.41c.39.39.9.59 1.41.59.51 0 1.02-.2 1.41-.59l7.78-7.78 2.81-2.81c.8-.78.8-2.07 0-2.86zM5.41 20L4 18.59l7.72-7.72 1.47 1.35L5.41 20z\"/>\n",
              "  </svg>\n",
              "      </button>\n",
              "      \n",
              "  <style>\n",
              "    .colab-df-container {\n",
              "      display:flex;\n",
              "      flex-wrap:wrap;\n",
              "      gap: 12px;\n",
              "    }\n",
              "\n",
              "    .colab-df-convert {\n",
              "      background-color: #E8F0FE;\n",
              "      border: none;\n",
              "      border-radius: 50%;\n",
              "      cursor: pointer;\n",
              "      display: none;\n",
              "      fill: #1967D2;\n",
              "      height: 32px;\n",
              "      padding: 0 0 0 0;\n",
              "      width: 32px;\n",
              "    }\n",
              "\n",
              "    .colab-df-convert:hover {\n",
              "      background-color: #E2EBFA;\n",
              "      box-shadow: 0px 1px 2px rgba(60, 64, 67, 0.3), 0px 1px 3px 1px rgba(60, 64, 67, 0.15);\n",
              "      fill: #174EA6;\n",
              "    }\n",
              "\n",
              "    [theme=dark] .colab-df-convert {\n",
              "      background-color: #3B4455;\n",
              "      fill: #D2E3FC;\n",
              "    }\n",
              "\n",
              "    [theme=dark] .colab-df-convert:hover {\n",
              "      background-color: #434B5C;\n",
              "      box-shadow: 0px 1px 3px 1px rgba(0, 0, 0, 0.15);\n",
              "      filter: drop-shadow(0px 1px 2px rgba(0, 0, 0, 0.3));\n",
              "      fill: #FFFFFF;\n",
              "    }\n",
              "  </style>\n",
              "\n",
              "      <script>\n",
              "        const buttonEl =\n",
              "          document.querySelector('#df-93fa5656-56a9-4931-b121-fbae7475fda4 button.colab-df-convert');\n",
              "        buttonEl.style.display =\n",
              "          google.colab.kernel.accessAllowed ? 'block' : 'none';\n",
              "\n",
              "        async function convertToInteractive(key) {\n",
              "          const element = document.querySelector('#df-93fa5656-56a9-4931-b121-fbae7475fda4');\n",
              "          const dataTable =\n",
              "            await google.colab.kernel.invokeFunction('convertToInteractive',\n",
              "                                                     [key], {});\n",
              "          if (!dataTable) return;\n",
              "\n",
              "          const docLinkHtml = 'Like what you see? Visit the ' +\n",
              "            '<a target=\"_blank\" href=https://colab.research.google.com/notebooks/data_table.ipynb>data table notebook</a>'\n",
              "            + ' to learn more about interactive tables.';\n",
              "          element.innerHTML = '';\n",
              "          dataTable['output_type'] = 'display_data';\n",
              "          await google.colab.output.renderOutput(dataTable, element);\n",
              "          const docLink = document.createElement('div');\n",
              "          docLink.innerHTML = docLinkHtml;\n",
              "          element.appendChild(docLink);\n",
              "        }\n",
              "      </script>\n",
              "    </div>\n",
              "  </div>\n",
              "  "
            ]
          },
          "metadata": {},
          "execution_count": 171
        }
      ]
    },
    {
      "cell_type": "code",
      "source": [
        "product.columns"
      ],
      "metadata": {
        "colab": {
          "base_uri": "https://localhost:8080/"
        },
        "id": "xSZPW7SFoZRd",
        "outputId": "e917bffe-75be-47ba-c62a-7a3f3bd9098f"
      },
      "id": "xSZPW7SFoZRd",
      "execution_count": 146,
      "outputs": [
        {
          "output_type": "execute_result",
          "data": {
            "text/plain": [
              "Index(['Merchant', 'Date', 'Product', 'Event', 'Count of events', 'Usd Amount',\n",
              "       'Unnamed: 6', 'Unnamed: 7', 'Unnamed: 8', 'Unnamed: 9', 'Unnamed: 10',\n",
              "       'Unnamed: 11', 'Unnamed: 12', 'Unnamed: 13', 'Unnamed: 14',\n",
              "       'Unnamed: 15', 'Unnamed: 16', 'Unnamed: 17', 'Unnamed: 18',\n",
              "       'Unnamed: 19', 'Unnamed: 20', 'Unnamed: 21'],\n",
              "      dtype='object')"
            ]
          },
          "metadata": {},
          "execution_count": 146
        }
      ]
    },
    {
      "cell_type": "code",
      "source": [
        "product = product[['Merchant','Date','Product', 'Event', 'Count of events', 'Usd Amount']].copy()"
      ],
      "metadata": {
        "id": "g57uApEBlhzj"
      },
      "id": "g57uApEBlhzj",
      "execution_count": 147,
      "outputs": []
    },
    {
      "cell_type": "code",
      "source": [
        "product.dropna(axis=0,how = 'all',inplace = True)"
      ],
      "metadata": {
        "id": "QyqLV35pnPRk"
      },
      "id": "QyqLV35pnPRk",
      "execution_count": 148,
      "outputs": []
    },
    {
      "cell_type": "code",
      "source": [
        "product.groupby('Product')['Usd Amount'].apply(lambda x:x.isnull().sum())"
      ],
      "metadata": {
        "colab": {
          "base_uri": "https://localhost:8080/"
        },
        "id": "TXR2mkzVuwRg",
        "outputId": "25dbb606-ad38-42c4-db54-cb8c601c742a"
      },
      "id": "TXR2mkzVuwRg",
      "execution_count": 150,
      "outputs": [
        {
          "output_type": "execute_result",
          "data": {
            "text/plain": [
              "Product\n",
              "Basic API         0\n",
              "Cart            654\n",
              "Marketplaces      0\n",
              "Recurring         0\n",
              "Name: Usd Amount, dtype: int64"
            ]
          },
          "metadata": {},
          "execution_count": 150
        }
      ]
    },
    {
      "cell_type": "code",
      "source": [
        "product.dropna(axis=0, inplace=True)"
      ],
      "metadata": {
        "id": "72aXLh5_SKtq"
      },
      "id": "72aXLh5_SKtq",
      "execution_count": 160,
      "outputs": []
    },
    {
      "cell_type": "code",
      "source": [
        "product['Product'].value_counts()\n"
      ],
      "metadata": {
        "colab": {
          "base_uri": "https://localhost:8080/"
        },
        "id": "2rH5e7iCrjZl",
        "outputId": "9133439c-6d7b-4206-a73f-47986067b32a"
      },
      "id": "2rH5e7iCrjZl",
      "execution_count": 161,
      "outputs": [
        {
          "output_type": "execute_result",
          "data": {
            "text/plain": [
              "Cart            218\n",
              "Marketplaces    202\n",
              "Recurring       100\n",
              "Basic API        78\n",
              "Name: Product, dtype: int64"
            ]
          },
          "metadata": {},
          "execution_count": 161
        }
      ]
    },
    {
      "cell_type": "code",
      "source": [
        "clean_product = product.copy()"
      ],
      "metadata": {
        "id": "ZJ1dAlxySpJp"
      },
      "id": "ZJ1dAlxySpJp",
      "execution_count": 162,
      "outputs": []
    },
    {
      "cell_type": "code",
      "source": [
        "clean_product.duplicated().sum()"
      ],
      "metadata": {
        "id": "Z_9YYS1aTos4",
        "outputId": "eb7a1b71-bf80-4294-bdcb-b47e45526abe",
        "colab": {
          "base_uri": "https://localhost:8080/"
        }
      },
      "id": "Z_9YYS1aTos4",
      "execution_count": 166,
      "outputs": [
        {
          "output_type": "execute_result",
          "data": {
            "text/plain": [
              "0"
            ]
          },
          "metadata": {},
          "execution_count": 166
        }
      ]
    },
    {
      "cell_type": "code",
      "source": [
        "clean_product.head()"
      ],
      "metadata": {
        "id": "Vh16NPhzTqjd",
        "outputId": "04e44ad6-d348-4168-f79f-e707dcbe6855",
        "colab": {
          "base_uri": "https://localhost:8080/",
          "height": 206
        }
      },
      "id": "Vh16NPhzTqjd",
      "execution_count": 167,
      "outputs": [
        {
          "output_type": "execute_result",
          "data": {
            "text/plain": [
              "     Merchant        Date    Product                Event  Count of events  \\\n",
              "0  282t1vpldi  01/01/2013  Basic API               Charge         33.00000   \n",
              "1  282t1vpldi  01/02/2013  Basic API               Charge         17.00000   \n",
              "2  282t1vpldi  01/03/2013  Basic API               Charge         20.00000   \n",
              "3  282t1vpldi  01/04/2013  Basic API               Charge         21.00000   \n",
              "4  282t1vpldi  01/05/2013  Recurring  Subscription.Charge         23.00000   \n",
              "\n",
              "    Usd Amount  \n",
              "0 329967.00000  \n",
              "1 169983.00000  \n",
              "2 199980.00000  \n",
              "3 209979.00000  \n",
              "4 229977.00000  "
            ],
            "text/html": [
              "\n",
              "  <div id=\"df-ce8350c2-f011-4fa2-b052-585e56c76af6\">\n",
              "    <div class=\"colab-df-container\">\n",
              "      <div>\n",
              "<style scoped>\n",
              "    .dataframe tbody tr th:only-of-type {\n",
              "        vertical-align: middle;\n",
              "    }\n",
              "\n",
              "    .dataframe tbody tr th {\n",
              "        vertical-align: top;\n",
              "    }\n",
              "\n",
              "    .dataframe thead th {\n",
              "        text-align: right;\n",
              "    }\n",
              "</style>\n",
              "<table border=\"1\" class=\"dataframe\">\n",
              "  <thead>\n",
              "    <tr style=\"text-align: right;\">\n",
              "      <th></th>\n",
              "      <th>Merchant</th>\n",
              "      <th>Date</th>\n",
              "      <th>Product</th>\n",
              "      <th>Event</th>\n",
              "      <th>Count of events</th>\n",
              "      <th>Usd Amount</th>\n",
              "    </tr>\n",
              "  </thead>\n",
              "  <tbody>\n",
              "    <tr>\n",
              "      <th>0</th>\n",
              "      <td>282t1vpldi</td>\n",
              "      <td>01/01/2013</td>\n",
              "      <td>Basic API</td>\n",
              "      <td>Charge</td>\n",
              "      <td>33.00000</td>\n",
              "      <td>329967.00000</td>\n",
              "    </tr>\n",
              "    <tr>\n",
              "      <th>1</th>\n",
              "      <td>282t1vpldi</td>\n",
              "      <td>01/02/2013</td>\n",
              "      <td>Basic API</td>\n",
              "      <td>Charge</td>\n",
              "      <td>17.00000</td>\n",
              "      <td>169983.00000</td>\n",
              "    </tr>\n",
              "    <tr>\n",
              "      <th>2</th>\n",
              "      <td>282t1vpldi</td>\n",
              "      <td>01/03/2013</td>\n",
              "      <td>Basic API</td>\n",
              "      <td>Charge</td>\n",
              "      <td>20.00000</td>\n",
              "      <td>199980.00000</td>\n",
              "    </tr>\n",
              "    <tr>\n",
              "      <th>3</th>\n",
              "      <td>282t1vpldi</td>\n",
              "      <td>01/04/2013</td>\n",
              "      <td>Basic API</td>\n",
              "      <td>Charge</td>\n",
              "      <td>21.00000</td>\n",
              "      <td>209979.00000</td>\n",
              "    </tr>\n",
              "    <tr>\n",
              "      <th>4</th>\n",
              "      <td>282t1vpldi</td>\n",
              "      <td>01/05/2013</td>\n",
              "      <td>Recurring</td>\n",
              "      <td>Subscription.Charge</td>\n",
              "      <td>23.00000</td>\n",
              "      <td>229977.00000</td>\n",
              "    </tr>\n",
              "  </tbody>\n",
              "</table>\n",
              "</div>\n",
              "      <button class=\"colab-df-convert\" onclick=\"convertToInteractive('df-ce8350c2-f011-4fa2-b052-585e56c76af6')\"\n",
              "              title=\"Convert this dataframe to an interactive table.\"\n",
              "              style=\"display:none;\">\n",
              "        \n",
              "  <svg xmlns=\"http://www.w3.org/2000/svg\" height=\"24px\"viewBox=\"0 0 24 24\"\n",
              "       width=\"24px\">\n",
              "    <path d=\"M0 0h24v24H0V0z\" fill=\"none\"/>\n",
              "    <path d=\"M18.56 5.44l.94 2.06.94-2.06 2.06-.94-2.06-.94-.94-2.06-.94 2.06-2.06.94zm-11 1L8.5 8.5l.94-2.06 2.06-.94-2.06-.94L8.5 2.5l-.94 2.06-2.06.94zm10 10l.94 2.06.94-2.06 2.06-.94-2.06-.94-.94-2.06-.94 2.06-2.06.94z\"/><path d=\"M17.41 7.96l-1.37-1.37c-.4-.4-.92-.59-1.43-.59-.52 0-1.04.2-1.43.59L10.3 9.45l-7.72 7.72c-.78.78-.78 2.05 0 2.83L4 21.41c.39.39.9.59 1.41.59.51 0 1.02-.2 1.41-.59l7.78-7.78 2.81-2.81c.8-.78.8-2.07 0-2.86zM5.41 20L4 18.59l7.72-7.72 1.47 1.35L5.41 20z\"/>\n",
              "  </svg>\n",
              "      </button>\n",
              "      \n",
              "  <style>\n",
              "    .colab-df-container {\n",
              "      display:flex;\n",
              "      flex-wrap:wrap;\n",
              "      gap: 12px;\n",
              "    }\n",
              "\n",
              "    .colab-df-convert {\n",
              "      background-color: #E8F0FE;\n",
              "      border: none;\n",
              "      border-radius: 50%;\n",
              "      cursor: pointer;\n",
              "      display: none;\n",
              "      fill: #1967D2;\n",
              "      height: 32px;\n",
              "      padding: 0 0 0 0;\n",
              "      width: 32px;\n",
              "    }\n",
              "\n",
              "    .colab-df-convert:hover {\n",
              "      background-color: #E2EBFA;\n",
              "      box-shadow: 0px 1px 2px rgba(60, 64, 67, 0.3), 0px 1px 3px 1px rgba(60, 64, 67, 0.15);\n",
              "      fill: #174EA6;\n",
              "    }\n",
              "\n",
              "    [theme=dark] .colab-df-convert {\n",
              "      background-color: #3B4455;\n",
              "      fill: #D2E3FC;\n",
              "    }\n",
              "\n",
              "    [theme=dark] .colab-df-convert:hover {\n",
              "      background-color: #434B5C;\n",
              "      box-shadow: 0px 1px 3px 1px rgba(0, 0, 0, 0.15);\n",
              "      filter: drop-shadow(0px 1px 2px rgba(0, 0, 0, 0.3));\n",
              "      fill: #FFFFFF;\n",
              "    }\n",
              "  </style>\n",
              "\n",
              "      <script>\n",
              "        const buttonEl =\n",
              "          document.querySelector('#df-ce8350c2-f011-4fa2-b052-585e56c76af6 button.colab-df-convert');\n",
              "        buttonEl.style.display =\n",
              "          google.colab.kernel.accessAllowed ? 'block' : 'none';\n",
              "\n",
              "        async function convertToInteractive(key) {\n",
              "          const element = document.querySelector('#df-ce8350c2-f011-4fa2-b052-585e56c76af6');\n",
              "          const dataTable =\n",
              "            await google.colab.kernel.invokeFunction('convertToInteractive',\n",
              "                                                     [key], {});\n",
              "          if (!dataTable) return;\n",
              "\n",
              "          const docLinkHtml = 'Like what you see? Visit the ' +\n",
              "            '<a target=\"_blank\" href=https://colab.research.google.com/notebooks/data_table.ipynb>data table notebook</a>'\n",
              "            + ' to learn more about interactive tables.';\n",
              "          element.innerHTML = '';\n",
              "          dataTable['output_type'] = 'display_data';\n",
              "          await google.colab.output.renderOutput(dataTable, element);\n",
              "          const docLink = document.createElement('div');\n",
              "          docLink.innerHTML = docLinkHtml;\n",
              "          element.appendChild(docLink);\n",
              "        }\n",
              "      </script>\n",
              "    </div>\n",
              "  </div>\n",
              "  "
            ]
          },
          "metadata": {},
          "execution_count": 167
        }
      ]
    },
    {
      "cell_type": "code",
      "source": [
        "clean_product['Product'].value_counts().plot(kind = 'bar')"
      ],
      "metadata": {
        "id": "0H2skn_XU1KF",
        "outputId": "889096d0-b45a-424d-acfa-71c020f70eb0",
        "colab": {
          "base_uri": "https://localhost:8080/",
          "height": 526
        }
      },
      "id": "0H2skn_XU1KF",
      "execution_count": 170,
      "outputs": [
        {
          "output_type": "execute_result",
          "data": {
            "text/plain": [
              "<Axes: >"
            ]
          },
          "metadata": {},
          "execution_count": 170
        },
        {
          "output_type": "display_data",
          "data": {
            "text/plain": [
              "<Figure size 640x480 with 1 Axes>"
            ],
            "image/png": "[encoded data removed]"
          },
          "metadata": {}
        }
      ]
    },
    {
      "cell_type": "code",
      "source": [
        "results = pd.merge(clean_product,segment,how = 'left',on='Merchant')"
      ],
      "metadata": {
        "id": "psaeOZ2eVBAx"
      },
      "id": "psaeOZ2eVBAx",
      "execution_count": 172,
      "outputs": []
    },
    {
      "cell_type": "code",
      "source": [
        "results.head()"
      ],
      "metadata": {
        "id": "kLbwNQ5tbo_u",
        "outputId": "ab9a34d8-f505-4f10-f2da-91c367c94717",
        "colab": {
          "base_uri": "https://localhost:8080/",
          "height": 206
        }
      },
      "id": "kLbwNQ5tbo_u",
      "execution_count": 173,
      "outputs": [
        {
          "output_type": "execute_result",
          "data": {
            "text/plain": [
              "     Merchant        Date    Product                Event  Count of events  \\\n",
              "0  282t1vpldi  01/01/2013  Basic API               Charge         33.00000   \n",
              "1  282t1vpldi  01/02/2013  Basic API               Charge         17.00000   \n",
              "2  282t1vpldi  01/03/2013  Basic API               Charge         20.00000   \n",
              "3  282t1vpldi  01/04/2013  Basic API               Charge         21.00000   \n",
              "4  282t1vpldi  01/05/2013  Recurring  Subscription.Charge         23.00000   \n",
              "\n",
              "    Usd Amount Segment  \n",
              "0 329967.00000    SaaS  \n",
              "1 169983.00000    SaaS  \n",
              "2 199980.00000    SaaS  \n",
              "3 209979.00000    SaaS  \n",
              "4 229977.00000    SaaS  "
            ],
            "text/html": [
              "\n",
              "  <div id=\"df-415b7e37-dff9-4f71-9313-a844c92e43bb\">\n",
              "    <div class=\"colab-df-container\">\n",
              "      <div>\n",
              "<style scoped>\n",
              "    .dataframe tbody tr th:only-of-type {\n",
              "        vertical-align: middle;\n",
              "    }\n",
              "\n",
              "    .dataframe tbody tr th {\n",
              "        vertical-align: top;\n",
              "    }\n",
              "\n",
              "    .dataframe thead th {\n",
              "        text-align: right;\n",
              "    }\n",
              "</style>\n",
              "<table border=\"1\" class=\"dataframe\">\n",
              "  <thead>\n",
              "    <tr style=\"text-align: right;\">\n",
              "      <th></th>\n",
              "      <th>Merchant</th>\n",
              "      <th>Date</th>\n",
              "      <th>Product</th>\n",
              "      <th>Event</th>\n",
              "      <th>Count of events</th>\n",
              "      <th>Usd Amount</th>\n",
              "      <th>Segment</th>\n",
              "    </tr>\n",
              "  </thead>\n",
              "  <tbody>\n",
              "    <tr>\n",
              "      <th>0</th>\n",
              "      <td>282t1vpldi</td>\n",
              "      <td>01/01/2013</td>\n",
              "      <td>Basic API</td>\n",
              "      <td>Charge</td>\n",
              "      <td>33.00000</td>\n",
              "      <td>329967.00000</td>\n",
              "      <td>SaaS</td>\n",
              "    </tr>\n",
              "    <tr>\n",
              "      <th>1</th>\n",
              "      <td>282t1vpldi</td>\n",
              "      <td>01/02/2013</td>\n",
              "      <td>Basic API</td>\n",
              "      <td>Charge</td>\n",
              "      <td>17.00000</td>\n",
              "      <td>169983.00000</td>\n",
              "      <td>SaaS</td>\n",
              "    </tr>\n",
              "    <tr>\n",
              "      <th>2</th>\n",
              "      <td>282t1vpldi</td>\n",
              "      <td>01/03/2013</td>\n",
              "      <td>Basic API</td>\n",
              "      <td>Charge</td>\n",
              "      <td>20.00000</td>\n",
              "      <td>199980.00000</td>\n",
              "      <td>SaaS</td>\n",
              "    </tr>\n",
              "    <tr>\n",
              "      <th>3</th>\n",
              "      <td>282t1vpldi</td>\n",
              "      <td>01/04/2013</td>\n",
              "      <td>Basic API</td>\n",
              "      <td>Charge</td>\n",
              "      <td>21.00000</td>\n",
              "      <td>209979.00000</td>\n",
              "      <td>SaaS</td>\n",
              "    </tr>\n",
              "    <tr>\n",
              "      <th>4</th>\n",
              "      <td>282t1vpldi</td>\n",
              "      <td>01/05/2013</td>\n",
              "      <td>Recurring</td>\n",
              "      <td>Subscription.Charge</td>\n",
              "      <td>23.00000</td>\n",
              "      <td>229977.00000</td>\n",
              "      <td>SaaS</td>\n",
              "    </tr>\n",
              "  </tbody>\n",
              "</table>\n",
              "</div>\n",
              "      <button class=\"colab-df-convert\" onclick=\"convertToInteractive('df-415b7e37-dff9-4f71-9313-a844c92e43bb')\"\n",
              "              title=\"Convert this dataframe to an interactive table.\"\n",
              "              style=\"display:none;\">\n",
              "        \n",
              "  <svg xmlns=\"http://www.w3.org/2000/svg\" height=\"24px\"viewBox=\"0 0 24 24\"\n",
              "       width=\"24px\">\n",
              "    <path d=\"M0 0h24v24H0V0z\" fill=\"none\"/>\n",
              "    <path d=\"M18.56 5.44l.94 2.06.94-2.06 2.06-.94-2.06-.94-.94-2.06-.94 2.06-2.06.94zm-11 1L8.5 8.5l.94-2.06 2.06-.94-2.06-.94L8.5 2.5l-.94 2.06-2.06.94zm10 10l.94 2.06.94-2.06 2.06-.94-2.06-.94-.94-2.06-.94 2.06-2.06.94z\"/><path d=\"M17.41 7.96l-1.37-1.37c-.4-.4-.92-.59-1.43-.59-.52 0-1.04.2-1.43.59L10.3 9.45l-7.72 7.72c-.78.78-.78 2.05 0 2.83L4 21.41c.39.39.9.59 1.41.59.51 0 1.02-.2 1.41-.59l7.78-7.78 2.81-2.81c.8-.78.8-2.07 0-2.86zM5.41 20L4 18.59l7.72-7.72 1.47 1.35L5.41 20z\"/>\n",
              "  </svg>\n",
              "      </button>\n",
              "      \n",
              "  <style>\n",
              "    .colab-df-container {\n",
              "      display:flex;\n",
              "      flex-wrap:wrap;\n",
              "      gap: 12px;\n",
              "    }\n",
              "\n",
              "    .colab-df-convert {\n",
              "      background-color: #E8F0FE;\n",
              "      border: none;\n",
              "      border-radius: 50%;\n",
              "      cursor: pointer;\n",
              "      display: none;\n",
              "      fill: #1967D2;\n",
              "      height: 32px;\n",
              "      padding: 0 0 0 0;\n",
              "      width: 32px;\n",
              "    }\n",
              "\n",
              "    .colab-df-convert:hover {\n",
              "      background-color: #E2EBFA;\n",
              "      box-shadow: 0px 1px 2px rgba(60, 64, 67, 0.3), 0px 1px 3px 1px rgba(60, 64, 67, 0.15);\n",
              "      fill: #174EA6;\n",
              "    }\n",
              "\n",
              "    [theme=dark] .colab-df-convert {\n",
              "      background-color: #3B4455;\n",
              "      fill: #D2E3FC;\n",
              "    }\n",
              "\n",
              "    [theme=dark] .colab-df-convert:hover {\n",
              "      background-color: #434B5C;\n",
              "      box-shadow: 0px 1px 3px 1px rgba(0, 0, 0, 0.15);\n",
              "      filter: drop-shadow(0px 1px 2px rgba(0, 0, 0, 0.3));\n",
              "      fill: #FFFFFF;\n",
              "    }\n",
              "  </style>\n",
              "\n",
              "      <script>\n",
              "        const buttonEl =\n",
              "          document.querySelector('#df-415b7e37-dff9-4f71-9313-a844c92e43bb button.colab-df-convert');\n",
              "        buttonEl.style.display =\n",
              "          google.colab.kernel.accessAllowed ? 'block' : 'none';\n",
              "\n",
              "        async function convertToInteractive(key) {\n",
              "          const element = document.querySelector('#df-415b7e37-dff9-4f71-9313-a844c92e43bb');\n",
              "          const dataTable =\n",
              "            await google.colab.kernel.invokeFunction('convertToInteractive',\n",
              "                                                     [key], {});\n",
              "          if (!dataTable) return;\n",
              "\n",
              "          const docLinkHtml = 'Like what you see? Visit the ' +\n",
              "            '<a target=\"_blank\" href=https://colab.research.google.com/notebooks/data_table.ipynb>data table notebook</a>'\n",
              "            + ' to learn more about interactive tables.';\n",
              "          element.innerHTML = '';\n",
              "          dataTable['output_type'] = 'display_data';\n",
              "          await google.colab.output.renderOutput(dataTable, element);\n",
              "          const docLink = document.createElement('div');\n",
              "          docLink.innerHTML = docLinkHtml;\n",
              "          element.appendChild(docLink);\n",
              "        }\n",
              "      </script>\n",
              "    </div>\n",
              "  </div>\n",
              "  "
            ]
          },
          "metadata": {},
          "execution_count": 173
        }
      ]
    },
    {
      "cell_type": "code",
      "source": [
        "segment.groupby('Segment').value_counts()"
      ],
      "metadata": {
        "id": "pPeXQtAYbrLY",
        "outputId": "6e95ecb3-3808-469f-8893-7237916923be",
        "colab": {
          "base_uri": "https://localhost:8080/"
        }
      },
      "id": "pPeXQtAYbrLY",
      "execution_count": 180,
      "outputs": [
        {
          "output_type": "execute_result",
          "data": {
            "text/plain": [
              "Segment           Merchant   \n",
              "E-Commerce Store  8kkxv1xxbt9    1\n",
              "                  9vd51p2e29     1\n",
              "                  zz8yi2lz0k9    1\n",
              "                  yadjx8estt9    1\n",
              "                  wzimmlvj9k9    1\n",
              "                  wtnlnqrrudi    1\n",
              "                  w1x4pumobt9    1\n",
              "                  tgiaz41jor     1\n",
              "                  rczsldz33di    1\n",
              "                  nsoxg9fi529    1\n",
              "                  fix7e4xtj4i    1\n",
              "                  c5dxqolxr      1\n",
              "                  a9jszcl3di     1\n",
              "Platform          hu22wwpcik9    1\n",
              "                  u9nzlgqr529    1\n",
              "                  r1aca4z33di    1\n",
              "                  q5o0270t3xr    1\n",
              "                  obpa1e89f6r    1\n",
              "                  hkw5486w29     1\n",
              "                  50zxrqc9pb9    1\n",
              "                  4p36czyqfr     1\n",
              "                  3r5r60f6r      1\n",
              "SaaS              lv6bu51att9    1\n",
              "                  jstcqq9qkt9    1\n",
              "                  jrb04vuc8fr    1\n",
              "                  gtey5htzkt9    1\n",
              "                  ctow2fenrk9    1\n",
              "                  awzc15rk9      1\n",
              "                  5ellnhilik9    1\n",
              "                  39rrckrzfr     1\n",
              "                  2x5fpa2a9k9    1\n",
              "                  282t1vpldi     1\n",
              "                  m6jyvblc8fr    1\n",
              "dtype: int64"
            ]
          },
          "metadata": {},
          "execution_count": 180
        }
      ]
    },
    {
      "cell_type": "code",
      "source": [],
      "metadata": {
        "id": "JdovIGzYcAWU"
      },
      "id": "JdovIGzYcAWU",
      "execution_count": null,
      "outputs": []
    }
  ],
  "metadata": {
    "kernelspec": {
      "display_name": "Python 3",
      "language": "python",
      "name": "python3"
    },
    "language_info": {
      "codemirror_mode": {
        "name": "ipython",
        "version": 3
      },
      "file_extension": ".py",
      "mimetype": "text/x-python",
      "name": "python",
      "nbconvert_exporter": "python",
      "pygments_lexer": "ipython3",
      "version": "3.8.8"
    },
    "colab": {
      "provenance": []
    }
  },
  "nbformat": 4,
  "nbformat_minor": 5
}